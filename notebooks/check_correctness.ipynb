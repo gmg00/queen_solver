{
 "cells": [
  {
   "cell_type": "code",
   "execution_count": 2,
   "metadata": {},
   "outputs": [],
   "source": [
    "from functions import *"
   ]
  },
  {
   "cell_type": "code",
   "execution_count": 11,
   "metadata": {},
   "outputs": [
    {
     "name": "stdout",
     "output_type": "stream",
     "text": [
      "62 62\n",
      "500 500\n"
     ]
    },
    {
     "data": {
      "image/png": "[encoded data removed]",
      "text/plain": [
       "<Figure size 800x800 with 1 Axes>"
      ]
     },
     "metadata": {},
     "output_type": "display_data"
    }
   ],
   "source": [
    "# Esegui il codice\n",
    "image_path = \"/Users/HP/Desktop/Python/queen_solver/77.png\"\n",
    "color_matrix = main(image_path)\n",
    "plot_color_matrix(color_matrix)"
   ]
  },
  {
   "cell_type": "code",
   "execution_count": 29,
   "metadata": {},
   "outputs": [
    {
     "name": "stdout",
     "output_type": "stream",
     "text": [
      "[[[3 0]\n",
      "  [3 0]\n",
      "  [7 0]\n",
      "  [7 0]\n",
      "  [3 0]\n",
      "  [0 0]\n",
      "  [0 0]\n",
      "  [0 0]]\n",
      "\n",
      " [[3 0]\n",
      "  [2 0]\n",
      "  [7 0]\n",
      "  [7 0]\n",
      "  [3 0]\n",
      "  [0 0]\n",
      "  [0 0]\n",
      "  [0 0]]\n",
      "\n",
      " [[3 0]\n",
      "  [5 0]\n",
      "  [5 0]\n",
      "  [3 0]\n",
      "  [3 0]\n",
      "  [0 0]\n",
      "  [0 0]\n",
      "  [0 0]]\n",
      "\n",
      " [[3 0]\n",
      "  [5 0]\n",
      "  [5 0]\n",
      "  [3 0]\n",
      "  [3 0]\n",
      "  [3 0]\n",
      "  [3 0]\n",
      "  [3 0]]\n",
      "\n",
      " [[3 0]\n",
      "  [3 0]\n",
      "  [3 0]\n",
      "  [4 0]\n",
      "  [4 0]\n",
      "  [4 0]\n",
      "  [3 0]\n",
      "  [3 0]]\n",
      "\n",
      " [[3 0]\n",
      "  [3 0]\n",
      "  [3 0]\n",
      "  [4 0]\n",
      "  [4 0]\n",
      "  [4 0]\n",
      "  [3 0]\n",
      "  [3 0]]\n",
      "\n",
      " [[1 0]\n",
      "  [1 0]\n",
      "  [3 0]\n",
      "  [4 0]\n",
      "  [4 0]\n",
      "  [4 0]\n",
      "  [6 0]\n",
      "  [3 0]]\n",
      "\n",
      " [[1 0]\n",
      "  [1 0]\n",
      "  [3 0]\n",
      "  [3 0]\n",
      "  [3 0]\n",
      "  [3 0]\n",
      "  [3 0]\n",
      "  [3 0]]]\n"
     ]
    }
   ],
   "source": [
    "indexed_matrix, color_dict = convert_color_matrix(color_matrix)\n",
    "indexed_matrix = np.array([[[idx, 0] for idx in row] for row in indexed_matrix])\n",
    "print(indexed_matrix)"
   ]
  },
  {
   "cell_type": "code",
   "execution_count": 38,
   "metadata": {},
   "outputs": [],
   "source": [
    "queens = np.where(indexed_matrix[:, :, 1] == 1)"
   ]
  },
  {
   "cell_type": "code",
   "execution_count": 40,
   "metadata": {},
   "outputs": [
    {
     "data": {
      "text/plain": [
       "array([0, 1, 2, 3, 4, 5, 6, 7], dtype=int64)"
      ]
     },
     "execution_count": 40,
     "metadata": {},
     "output_type": "execute_result"
    }
   ],
   "source": [
    "queens[0]"
   ]
  },
  {
   "cell_type": "code",
   "execution_count": null,
   "metadata": {},
   "outputs": [],
   "source": [
    "def check_correctness(indexed_matrix):\n",
    "    grid_size = indexed_matrix.shape[0]\n",
    "    # Check if there are grid_size queens\n",
    "    queens = np.where(indexed_matrix[:, :, 1] == 1)\n",
    "\n",
    "    if queens[0].size != grid_size:\n",
    "        return False\n",
    "    # Check if there's a queen in each row\n",
    "    if len(set(queens[0])) != grid_size:\n",
    "        return False\n",
    "    # Check if there's a queen in each column\n",
    "    if len(set(queens[1])) != grid_size:\n",
    "        return False\n",
    "    # Check if there's a queen in 1-distance diagonal for each queen\n",
    "    for i in range(grid_size):\n",
    "        row, col = queens[0][i], queens[1][i]\n",
    "        # Check the four possible diagonal neighbors at distance 1\n",
    "        for dr, dc in [(-1, -1), (-1, 1), (1, -1), (1, 1)]:\n",
    "            nr, nc = row + dr, col + dc\n",
    "            if 0 <= nr < grid_size and 0 <= nc < grid_size and indexed_matrix[nr, nc, 1] == 1:\n",
    "                return False  # Found a queen diagonally adjacent at distance 1\n",
    "            \n",
    "    # Check if each color region has at least one queen\n",
    "    color_regions = {}\n",
    "    \n",
    "    for row in range(grid_size):\n",
    "        for col in range(grid_size):\n",
    "            color_index = indexed_matrix[row, col, 0]\n",
    "            if color_index not in color_regions:\n",
    "                color_regions[color_index] = 0\n",
    "            if indexed_matrix[row, col, 1] == 1:\n",
    "                color_regions[color_index] += 1\n",
    "    \n",
    "    # Each color region must have at least one queen\n",
    "    if any(count == 0 for count in color_regions.values()):\n",
    "        return False\n",
    "    \n",
    "    return True"
   ]
  },
  {
   "cell_type": "code",
   "execution_count": 42,
   "metadata": {},
   "outputs": [
    {
     "data": {
      "text/plain": [
       "True"
      ]
     },
     "execution_count": 42,
     "metadata": {},
     "output_type": "execute_result"
    }
   ],
   "source": [
    "check_correctness(indexed_matrix)"
   ]
  },
  {
   "cell_type": "code",
   "execution_count": 45,
   "metadata": {},
   "outputs": [],
   "source": [
    "indexed_matrix_2 = indexed_matrix.copy()\n",
    "indexed_matrix_2[0, 2, 1] = 1\n",
    "indexed_matrix_2[0, 3, 1] = 0"
   ]
  },
  {
   "cell_type": "code",
   "execution_count": 46,
   "metadata": {},
   "outputs": [
    {
     "data": {
      "text/plain": [
       "False"
      ]
     },
     "execution_count": 46,
     "metadata": {},
     "output_type": "execute_result"
    }
   ],
   "source": [
    "check_correctness(indexed_matrix_2)"
   ]
  },
  {
   "cell_type": "code",
   "execution_count": 55,
   "metadata": {},
   "outputs": [],
   "source": [
    "import numpy as np\n",
    "import matplotlib.pyplot as plt\n",
    "\n",
    "def plot_indexed_matrix(indexed_matrix, color_dict):\n",
    "    grid_size = indexed_matrix.shape[0]\n",
    "    color_matrix = indexed_matrix[:, :, 0]  # Extract color indices\n",
    "    \n",
    "    # Create an RGB image\n",
    "    rgb_image = np.zeros((grid_size, grid_size, 3), dtype=np.uint8)\n",
    "    \n",
    "    for row in range(grid_size):\n",
    "        for col in range(grid_size):\n",
    "            color_index = color_matrix[row, col]\n",
    "            rgb_image[row, col] = color_dict.get(color_index, [255, 255, 255])  # Default to white if not in dict\n",
    "    \n",
    "    fig, ax = plt.subplots(figsize=(8, 8))\n",
    "    \n",
    "    # Plot the colored background\n",
    "    ax.imshow(rgb_image)\n",
    "    \n",
    "    # Add symbols\n",
    "    for row in range(grid_size):\n",
    "        for col in range(grid_size):\n",
    "            value = indexed_matrix[row, col, 1]\n",
    "            if value == 1:  # Queen\n",
    "                ax.text(col, row, '⚫', ha='center', va='center', fontsize=40, color='black')\n",
    "            elif value == -1:  # Marked as X\n",
    "                ax.text(col, row, 'X', ha='center', va='center', fontsize=30, color='black')\n",
    "\n",
    "    # Set grid\n",
    "    ax.set_xticks(np.arange(grid_size + 1) - 0.5, minor=True)\n",
    "    ax.set_yticks(np.arange(grid_size + 1) - 0.5, minor=True)\n",
    "    ax.grid(which=\"minor\", color=\"black\", linestyle=\"-\", linewidth=1)\n",
    "    ax.tick_params(which=\"minor\", size=0)\n",
    "    \n",
    "    plt.show()\n"
   ]
  },
  {
   "cell_type": "code",
   "execution_count": 49,
   "metadata": {},
   "outputs": [],
   "source": [
    "indexed_matrix[0,0,1] = -1"
   ]
  },
  {
   "cell_type": "code",
   "execution_count": 56,
   "metadata": {},
   "outputs": [
    {
     "data": {
      "image/png": "[encoded data removed]",
      "text/plain": [
       "<Figure size 800x800 with 1 Axes>"
      ]
     },
     "metadata": {},
     "output_type": "display_data"
    }
   ],
   "source": [
    "plot_indexed_matrix(indexed_matrix, color_dict)"
   ]
  }
 ],
 "metadata": {
  "kernelspec": {
   "display_name": "Python 3",
   "language": "python",
   "name": "python3"
  },
  "language_info": {
   "codemirror_mode": {
    "name": "ipython",
    "version": 3
   },
   "file_extension": ".py",
   "mimetype": "text/x-python",
   "name": "python",
   "nbconvert_exporter": "python",
   "pygments_lexer": "ipython3",
   "version": "3.11.6"
  }
 },
 "nbformat": 4,
 "nbformat_minor": 2
}
